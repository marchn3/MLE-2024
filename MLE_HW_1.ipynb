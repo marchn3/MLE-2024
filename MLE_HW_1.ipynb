{
 "cells": [
  {
   "cell_type": "code",
   "execution_count": 34,
   "id": "b4d79f93",
   "metadata": {},
   "outputs": [],
   "source": [
    "# Machine Learning Engineering HW #1\n",
    "# Nicholas March\n",
    "# 661848406\n",
    "\n",
    "import numpy as np\n",
    "import tensorflow as tf\n",
    "from numpy import loadtxt\n",
    "from keras.models import Sequential\n",
    "from keras.layers import Dense\n",
    "from keras import optimizers\n",
    "from tensorflow.python.keras.optimizers import *\n",
    "from sklearn.datasets import load_iris"
   ]
  },
  {
   "cell_type": "code",
   "execution_count": 35,
   "id": "754d1032",
   "metadata": {},
   "outputs": [
    {
     "name": "stdout",
     "output_type": "stream",
     "text": [
      "x1: [2 3 4 8 9]\n",
      "x2: [ 2 -3 -4  8  9]\n",
      "\n",
      "There are 5 features shown in x1 and x2\n",
      "\n",
      "    [1-norm, 2-norm, inf-norm]\n",
      "x1: [26.0, 13.19090595827292, 9.0]\n",
      "x2: [26.0, 13.19090595827292, 9.0]\n"
     ]
    }
   ],
   "source": [
    "# Problem 1\n",
    "x1 = np.array([2, 3, 4, 8, 9]).T\n",
    "x2 = np.array([2, -3, -4, 8, 9]).T\n",
    "\n",
    "print(\"x1:\",x1)\n",
    "print(\"x2:\",x2)\n",
    "\n",
    "# (a)\n",
    "print(\"\\nThere are 5 features shown in x1 and x2\\n\")\n",
    "\n",
    "# (b)\n",
    "x1_norms = []\n",
    "x1_norms.append(np.linalg.norm(x1, 1))\n",
    "x1_norms.append(np.linalg.norm(x1))\n",
    "x1_norms.append(np.linalg.norm(x1, np.inf))\n",
    "\n",
    "x2_norms = []\n",
    "x2_norms.append(np.linalg.norm(x2, 1))\n",
    "x2_norms.append(np.linalg.norm(x2))\n",
    "x2_norms.append(np.linalg.norm(x2, np.inf))\n",
    "\n",
    "print(\"    [1-norm, 2-norm, inf-norm]\")\n",
    "print(\"x1:\",x1_norms)\n",
    "print(\"x2:\",x2_norms)"
   ]
  },
  {
   "cell_type": "code",
   "execution_count": 36,
   "id": "1540f06c",
   "metadata": {},
   "outputs": [
    {
     "name": "stdout",
     "output_type": "stream",
     "text": [
      "Input Feature Vector x Length: 3145728.0\n",
      "Output Feature Vector y Length: 12288.0\n",
      "Matrix W Element #: 38654705664.0\n",
      "Vector b Element #: 12288.0\n"
     ]
    }
   ],
   "source": [
    "# Problem 2\n",
    "# assume color image pixels are comprised of three channels: red, green, and blue\n",
    "channel_num = 3.0\n",
    "\n",
    "# (a)\n",
    "input_pixels = 1024.0 * 1024.0\n",
    "input_feature_len = input_pixels * channel_num\n",
    "\n",
    "print(\"Input Feature Vector x Length:\",input_feature_len)\n",
    "\n",
    "# (b)\n",
    "output_pixels = 64.0 * 64.0\n",
    "output_feature_len = output_pixels * channel_num\n",
    "\n",
    "print(\"Output Feature Vector y Length:\",output_feature_len)\n",
    "\n",
    "# (c)\n",
    "W_element_num = output_feature_len * input_feature_len\n",
    "b_element_num = output_feature_len\n",
    "\n",
    "print(\"Matrix W Element #:\",W_element_num)\n",
    "print(\"Vector b Element #:\",b_element_num)"
   ]
  },
  {
   "cell_type": "code",
   "execution_count": 37,
   "id": "1885d0a1",
   "metadata": {},
   "outputs": [
    {
     "name": "stdout",
     "output_type": "stream",
     "text": [
      "W matrix:\n",
      "[[ 1. -1.]\n",
      " [ 2.  0.]]\n",
      "\n",
      "[1-norm, 2-norm, inf-norm, Frob-norm]\n",
      "[3.0, 2.2882456112707374, 2.0, 2.449489742783178]\n"
     ]
    }
   ],
   "source": [
    "# Problem 3\n",
    "W = np.zeros((2,2))\n",
    "W[0][0] = 1.0\n",
    "W[0][1] = -1.0\n",
    "W[1][0] = 2.0\n",
    "W[1][1] = 0.0\n",
    "\n",
    "print(\"W matrix:\")\n",
    "print(W)\n",
    "\n",
    "W_norms = []\n",
    "W_norms.append(np.linalg.norm(W, 1))\n",
    "W_norms.append(np.linalg.norm(W, 2))\n",
    "W_norms.append(np.linalg.norm(W, np.inf))\n",
    "W_norms.append(np.linalg.norm(W, 'fro'))\n",
    "\n",
    "print(\"\\n[1-norm, 2-norm, inf-norm, Frob-norm]\")\n",
    "print(W_norms)"
   ]
  },
  {
   "cell_type": "code",
   "execution_count": 38,
   "id": "6f6f340c",
   "metadata": {},
   "outputs": [
    {
     "name": "stdout",
     "output_type": "stream",
     "text": [
      "Prediction: [1 1 1 1 0 2 2 0 0 2 0 2 2 1 2 0 1 2 0 2 2 0 2 0 0 2 1 0 0 0 0 0 1 2 0 1 1\n",
      " 2 0 1 0 2 2 2 0 2 2 2 0 0 1 1 2 1 2 1 1 2 1 1]\n",
      "\n",
      "Actual Iris Species: [1 1 1 1 0 1 2 0 0 2 0 2 2 1 2 0 1 2 0 2 2 0 1 0 0 2 1 0 0 0 0 0 1 2 0 1 1\n",
      " 2 0 1 0 2 2 2 0 2 2 1 0 0 1 1 2 1 2 1 1 2 1 2]\n",
      "\n",
      "Accuracy Score: 0.9333333333333333\n"
     ]
    }
   ],
   "source": [
    "# Problem 4\n",
    "iris = load_iris()\n",
    "\n",
    "X = iris.data[:, :3] # only selecting first three features\n",
    "y = iris.target\n",
    "\n",
    "# split data and keep some separate for testing\n",
    "from sklearn.model_selection import train_test_split\n",
    "X_train, X_test, y_train, y_test=train_test_split(\n",
    "    X,y,\n",
    "    test_size=0.40,\n",
    "    train_size=0.60,\n",
    "    random_state=123,\n",
    "    shuffle=True,\n",
    "    stratify=y)\n",
    "\n",
    "# import and train SVM model\n",
    "from sklearn import svm\n",
    "clf = svm.SVC()\n",
    "clf.fit(X_train, y_train)\n",
    "\n",
    "# make prediction and print\n",
    "preds = clf.predict(X_test)\n",
    "print(\"Prediction:\",preds)\n",
    "\n",
    "# provide actual species for comparison\n",
    "print('\\nActual Iris Species:',y_test)\n",
    "\n",
    "# calculate accuracy score\n",
    "from sklearn.metrics import accuracy_score\n",
    "acc = accuracy_score(y_test,clf.predict(X_test) )\n",
    "print('\\nAccuracy Score:', acc)"
   ]
  },
  {
   "cell_type": "code",
   "execution_count": 39,
   "id": "1514479d",
   "metadata": {},
   "outputs": [
    {
     "name": "stdout",
     "output_type": "stream",
     "text": [
      "7th Root Estimations\n",
      "1/1 [==============================] - 0s 42ms/step\n",
      "[7.0] => 1.14 (expected 1.32)\n",
      "[14.0] => 1.50 (expected 1.46)\n",
      "[27.0] => 1.63 (expected 1.60)\n",
      "[38.0] => 1.68 (expected 1.68)\n",
      "[49.0] => 1.73 (expected 1.74)\n",
      "[57.0] => 1.77 (expected 1.78)\n",
      "[64.0] => 1.80 (expected 1.81)\n",
      "[78.0] => 1.86 (expected 1.86)\n",
      "[85.0] => 1.89 (expected 1.89)\n",
      "[93.0] => 1.93 (expected 1.91)\n"
     ]
    }
   ],
   "source": [
    "# Problem 5\n",
    "\n",
    "# input training data\n",
    "X = np.array([[7.0], [14.0], [27.0], [38.0], [49.0], [57.0], [64.0], [78.0], [85.0], [93.0]])\n",
    "y = np.array([[1.3204692478], [1.4579162496], [1.6013288856], [1.6814477288], [1.7436390343], \n",
    "              [1.7817192208], [1.8114473285], [1.8633705570], [1.8863890861], [1.9107851164]])\n",
    "\n",
    "# define keras model (neural network)\n",
    "model = Sequential()\n",
    "model.add(Dense(6,input_dim=1,activation='relu'))\n",
    "model.add(Dense(6,activation='relu'))\n",
    "model.add(Dense(6,activation='relu'))\n",
    "model.add(Dense(1))\n",
    "\n",
    "# compile the keras model\n",
    "opt = optimizers.Adam(learning_rate=0.001)\n",
    "mse = tf.keras.losses.MeanSquaredError(reduction=tf.keras.losses.Reduction.SUM)\n",
    "model.compile(loss=mse, optimizer=opt)\n",
    "\n",
    "# fit the keras model on the dataset (CPU)\n",
    "model.fit(X,y,epochs=2000,batch_size=10, verbose=0) # model is trying to learn heremodel.summary()\n",
    "\n",
    "# make class predictions with the model\n",
    "print(\"7th Root Estimations\")\n",
    "predictions = model.predict(X)\n",
    "\n",
    "# summarize the first 10 cases\n",
    "for i in range(10):\n",
    "    print('%s => %.2f (expected %.2f)' %(X[i].tolist(), predictions[i], y[i]))"
   ]
  },
  {
   "cell_type": "code",
   "execution_count": 45,
   "id": "7e655cc9",
   "metadata": {},
   "outputs": [
    {
     "name": "stdout",
     "output_type": "stream",
     "text": [
      "Sepal Length [cm] => Petal Length Prediction [cm]\n",
      "2/2 [==============================] - 0s 2ms/step\n",
      "6.3 => 4.65 (expected 4.90)\n",
      "6.8 => 5.59 (expected 5.50)\n",
      "6.4 => 4.84 (expected 5.60)\n",
      "5.6 => 3.33 (expected 4.10)\n",
      "4.9 => 2.01 (expected 1.40)\n",
      "6.0 => 4.08 (expected 4.80)\n",
      "6.3 => 4.65 (expected 4.40)\n",
      "4.4 => 1.16 (expected 1.30)\n",
      "4.4 => 1.16 (expected 1.40)\n",
      "5.5 => 3.14 (expected 4.40)\n"
     ]
    }
   ],
   "source": [
    "# Problem 6\n",
    "\n",
    "# input training data\n",
    "iris = load_iris() \n",
    "X = iris.data[:, 0] # assign sepal length as input\n",
    "y = iris.data[:, -2] # assign petal length as output\n",
    "\n",
    "# split data and keep some separate for testing\n",
    "from sklearn.model_selection import train_test_split\n",
    "X_train, X_test, y_train, y_test=train_test_split(\n",
    "    list(X),list(y),\n",
    "    test_size=0.40,\n",
    "    train_size=0.60,\n",
    "    random_state=123,\n",
    "    shuffle=True)\n",
    "\n",
    "# define keras model (neural network)\n",
    "model = Sequential()\n",
    "model.add(Dense(6,input_dim=1,activation='relu'))\n",
    "model.add(Dense(6,activation='relu'))\n",
    "model.add(Dense(6,activation='relu'))\n",
    "model.add(Dense(1))\n",
    "\n",
    "# compile the keras model\n",
    "opt = optimizers.Adam(learning_rate=0.001)\n",
    "mse = tf.keras.losses.MeanSquaredError(reduction=tf.keras.losses.Reduction.SUM)\n",
    "model.compile(loss=mse, optimizer=opt)\n",
    "\n",
    "# fit the keras model on the dataset (CPU)\n",
    "model.fit(X_train,y_train,epochs=2000,batch_size=10, verbose=0) # model is trying to learn heremodel.summary()\n",
    "\n",
    "# make class predictions with the model\n",
    "print(\"Sepal Length [cm] => Petal Length Prediction [cm]\")\n",
    "predictions = model.predict(X_test)\n",
    "\n",
    "# summarize the first 10 cases\n",
    "for i in range(10):\n",
    "    print('%s => %.2f (expected %.2f)' %(X_test[i].tolist(), predictions[i], y_test[i]))"
   ]
  }
 ],
 "metadata": {
  "kernelspec": {
   "display_name": "Python 3",
   "language": "python",
   "name": "python3"
  },
  "language_info": {
   "codemirror_mode": {
    "name": "ipython",
    "version": 3
   },
   "file_extension": ".py",
   "mimetype": "text/x-python",
   "name": "python",
   "nbconvert_exporter": "python",
   "pygments_lexer": "ipython3",
   "version": "3.8.8"
  }
 },
 "nbformat": 4,
 "nbformat_minor": 5
}
